{
 "cells": [
  {
   "cell_type": "code",
   "execution_count": null,
   "metadata": {},
   "outputs": [],
   "source": [
    "import pandas as pd\n",
    "from sklearn.model_selection import train_test_split\n",
    "import numpy as np\n",
    "import functions"
   ]
  },
  {
   "cell_type": "code",
   "execution_count": null,
   "metadata": {},
   "outputs": [],
   "source": [
    "# Load data\n",
    "train = pd.read_parquet('train_final.parquet')  \n",
    "test = pd.read_parquet('test_final.parquet')"
   ]
  },
  {
   "cell_type": "code",
   "execution_count": null,
   "metadata": {},
   "outputs": [],
   "source": [
    "test.head()"
   ]
  },
  {
   "cell_type": "code",
   "execution_count": null,
   "metadata": {},
   "outputs": [],
   "source": [
    "train = train.drop(['id','carrier','devicebrand'], axis=1)\n",
    "test_id = test['id']\n",
    "test = test.drop(['id','carrier','devicebrand'], axis=1)"
   ]
  },
  {
   "cell_type": "code",
   "execution_count": null,
   "metadata": {},
   "outputs": [],
   "source": [
    "# Verilerinizi özellikler ve hedef değişken olarak ayırın\n",
    "X_train = train.drop(['target'], axis=1)\n",
    "y_train = train['target']\n",
    "\n",
    "# Eğitim ve validation setlerini oluşturun\n",
    "X_train, X_valid, y_train, y_valid = train_test_split(X_train, y_train, test_size=0.1, random_state=42)"
   ]
  },
  {
   "cell_type": "code",
   "execution_count": null,
   "metadata": {},
   "outputs": [],
   "source": [
    "# Eğitim ve validation setlerindeki hedef sütununu dönüştürün\n",
    "y_train_binary = y_train.apply(functions.target_to_binary)\n",
    "y_valid_binary = y_valid.apply(functions.target_to_binary)\n"
   ]
  },
  {
   "cell_type": "code",
   "execution_count": null,
   "metadata": {},
   "outputs": [],
   "source": [
    "# Sınıflandırıcıyı oluşturun\n",
    "clf = ExtraTreesClassifier(n_estimators=100)\n",
    "\n",
    "# Modeli eğitin\n",
    "clf.fit(X_train, y_train_binary)"
   ]
  },
  {
   "cell_type": "code",
   "execution_count": null,
   "metadata": {},
   "outputs": [],
   "source": [
    "#Tahminler yapın\n",
    "y_pred = clf.predict(X_valid)\n",
    "\n",
    "#y_valid_binary ve y_pred dizilerinin veri türlerini dönüştürün\n",
    "y_valid_binary = y_valid_binary.astype(np.float64)\n",
    "y_pred = y_pred.astype(np.float64)\n",
    "\n",
    "\n",
    "#Jaccard benzerliği hesaplayın\n",
    "jaccard = functions.jaccard_similarity_score(y_valid_binary, y_pred)\n",
    "\n",
    "print(\"Jaccard Skoru:\", jaccard)"
   ]
  },
  {
   "cell_type": "code",
   "execution_count": null,
   "metadata": {},
   "outputs": [],
   "source": [
    "# Test verileri üzerinde tahmin yapın\n",
    "y_test_pred = clf.predict(test)"
   ]
  },
  {
   "cell_type": "code",
   "execution_count": null,
   "metadata": {},
   "outputs": [],
   "source": [
    "# Tahminleri içeren yeni bir veri çerçevesi oluşturun\n",
    "tahmin_verisi = pd.DataFrame({'id': test_id, 'target': y_test_pred})\n",
    "\n",
    "# Tahmin verisini CSV dosyasına kaydedin\n",
    "tahmin_verisi.to_csv('tahminler.csv', index=False, columns=['id', 'target'])"
   ]
  }
 ],
 "metadata": {
  "kernelspec": {
   "display_name": "Python 3",
   "language": "python",
   "name": "python3"
  },
  "language_info": {
   "codemirror_mode": {
    "name": "ipython",
    "version": 3
   },
   "file_extension": ".py",
   "mimetype": "text/x-python",
   "name": "python",
   "nbconvert_exporter": "python",
   "pygments_lexer": "ipython3",
   "version": "3.10.10"
  },
  "orig_nbformat": 4
 },
 "nbformat": 4,
 "nbformat_minor": 2
}
