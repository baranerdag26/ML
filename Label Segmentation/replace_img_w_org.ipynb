{
 "cells": [
  {
   "cell_type": "code",
   "execution_count": 3,
   "metadata": {},
   "outputs": [
    {
     "name": "stdout",
     "output_type": "stream",
     "text": [
      "JPEGs copied!\n"
     ]
    }
   ],
   "source": [
    "import os\n",
    "import json\n",
    "import shutil\n",
    "\n",
    "# Kaynak ve hedef klasörleri\n",
    "source_directory = 'C:/Users/baran/Desktop/***/original_images'\n",
    "destination_directory = 'C:/Users/baran/Desktop/***/***'\n",
    "\n",
    "# Hedef klasörü\n",
    "os.makedirs(destination_directory, exist_ok=True)\n",
    "\n",
    "# Kaynak dizindeki tüm dosyaları al\n",
    "for filename in os.listdir(source_directory):\n",
    "    # Dosya bir JPEG dosyasıysa\n",
    "    if filename.endswith('.jpeg'):\n",
    "        # Dosyanın tam yolunu al\n",
    "        source_file = os.path.join(source_directory, filename)\n",
    "        # Hedef dosyanın tam yolunu al\n",
    "        destination_file = os.path.join(destination_directory, filename)\n",
    "        \n",
    "        # Dosyayı hedef dizine kopyala\n",
    "        shutil.copy(source_file, destination_file)\n",
    "\n",
    "print(\"JPEGs copied!\")\n"
   ]
  }
 ],
 "metadata": {
  "kernelspec": {
   "display_name": "Python 3",
   "language": "python",
   "name": "python3"
  },
  "language_info": {
   "codemirror_mode": {
    "name": "ipython",
    "version": 3
   },
   "file_extension": ".py",
   "mimetype": "text/x-python",
   "name": "python",
   "nbconvert_exporter": "python",
   "pygments_lexer": "ipython3",
   "version": "3.10.10"
  }
 },
 "nbformat": 4,
 "nbformat_minor": 2
}
