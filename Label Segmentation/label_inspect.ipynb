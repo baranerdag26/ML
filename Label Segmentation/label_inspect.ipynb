{
 "cells": [
  {
   "cell_type": "code",
   "execution_count": 1,
   "metadata": {},
   "outputs": [
    {
     "name": "stdout",
     "output_type": "stream",
     "text": [
      "AMAZON :  37\n",
      "C-PLT :  4\n",
      "FEDX :  15\n",
      "MIAM :  7\n",
      "UPS :  13\n",
      "USPS :  51\n"
     ]
    }
   ],
   "source": [
    "#print differen label types and count of them\n",
    "\n",
    "import json\n",
    "import os\n",
    "import numpy as np\n",
    "import shutil\n",
    "\n",
    "path = 'C:/Users/baran/Desktop/***/label_jsons'\n",
    "files = os.listdir(path)\n",
    "\n",
    "\n",
    "labels = []\n",
    "\n",
    "for file in files:\n",
    "    if file.endswith('.json'):\n",
    "        with open(os.path.join(path, file), 'r', encoding='utf-8') as f:\n",
    "            data = json.load(f)\n",
    "            shapes = data['shapes']\n",
    "            for shape in shapes:\n",
    "                label = shape['label']\n",
    "                labels.append(label)\n",
    "\n",
    "label_types, label_counts = np.unique(labels, return_counts=True)\n",
    "for label_type, label_count in zip(label_types, label_counts):\n",
    "    print(label_type, ': ', label_count)"
   ]
  },
  {
   "cell_type": "code",
   "execution_count": 16,
   "metadata": {},
   "outputs": [],
   "source": [
    "\n",
    "for file in files:\n",
    "    if file.endswith('.json'):\n",
    "        with open(os.path.join(path, file), 'r', encoding='utf-8') as f:\n",
    "            data = json.load(f)\n",
    "            shapes = data['shapes']\n",
    "            for shape in shapes:\n",
    "                label = shape['label']\n",
    "                if label == 'USPS-6':\n",
    "                    print(file)"
   ]
  },
  {
   "cell_type": "code",
   "execution_count": 17,
   "metadata": {},
   "outputs": [],
   "source": [
    "#make \"USPS-1\", \"USPS-2\" and \"USPS-3\" classes as \"USPS\" class\n",
    "for file in files:\n",
    "    if file.endswith('.json'):\n",
    "        with open(os.path.join(path, file), 'r', encoding='utf-8') as f:\n",
    "            data = json.load(f)\n",
    "            shapes = data['shapes']\n",
    "            for shape in shapes:\n",
    "                label = shape['label']\n",
    "                if label == 'USPS-1' or label == 'USPS-2' or label == 'USPS-3':\n",
    "                    shape['label'] = 'USPS'\n",
    "                    with open(os.path.join(path, file), 'w', encoding='utf-8') as f:\n",
    "                        json.dump(data, f, ensure_ascii=False, indent=4)"
   ]
  },
  {
   "cell_type": "code",
   "execution_count": 19,
   "metadata": {},
   "outputs": [],
   "source": [
    "#make \"AMAZON-1\" class as \"AMAZON\" class\n",
    "for file in files:\n",
    "    if file.endswith('.json'):\n",
    "        with open(os.path.join(path, file), 'r', encoding='utf-8') as f:\n",
    "            data = json.load(f)\n",
    "            shapes = data['shapes']\n",
    "            for shape in shapes:\n",
    "                label = shape['label']\n",
    "                if label == 'AMAZON-1':\n",
    "                    shape['label'] = 'AMAZON'\n",
    "                    with open(os.path.join(path, file), 'w', encoding='utf-8') as f:\n",
    "                        json.dump(data, f, ensure_ascii=False, indent=4)"
   ]
  }
 ],
 "metadata": {
  "kernelspec": {
   "display_name": "Python 3",
   "language": "python",
   "name": "python3"
  },
  "language_info": {
   "codemirror_mode": {
    "name": "ipython",
    "version": 3
   },
   "file_extension": ".py",
   "mimetype": "text/x-python",
   "name": "python",
   "nbconvert_exporter": "python",
   "pygments_lexer": "ipython3",
   "version": "3.10.10"
  }
 },
 "nbformat": 4,
 "nbformat_minor": 2
}
