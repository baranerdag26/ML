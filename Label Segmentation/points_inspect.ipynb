{
 "cells": [
  {
   "cell_type": "code",
   "execution_count": 4,
   "metadata": {},
   "outputs": [],
   "source": [
    "#points info\n",
    "\n",
    "import os\n",
    "import json\n",
    "\n",
    "# Veri setinin yolu\n",
    "dataset_path = 'label_jsons'\n",
    "\n",
    "# Veri setindeki tüm dosyaları döngüye al\n",
    "for filename in os.listdir(dataset_path):\n",
    "    if filename.endswith('.json'):\n",
    "        # JSON dosyasını oku\n",
    "        with open(os.path.join(dataset_path, filename), 'r') as f:\n",
    "            data = json.load(f)\n",
    "            \n",
    "            # Dosya adını ve köşe noktalarının sayısını tablo formatında yazdır\n",
    "            if(len(data[\"shapes\"][0][\"points\"]) != 4):\n",
    "                print(f'| {filename} | {len(data[\"shapes\"][0][\"points\"])} |')\n"
   ]
  }
 ],
 "metadata": {
  "kernelspec": {
   "display_name": "Python 3",
   "language": "python",
   "name": "python3"
  },
  "language_info": {
   "codemirror_mode": {
    "name": "ipython",
    "version": 3
   },
   "file_extension": ".py",
   "mimetype": "text/x-python",
   "name": "python",
   "nbconvert_exporter": "python",
   "pygments_lexer": "ipython3",
   "version": "3.10.10"
  }
 },
 "nbformat": 4,
 "nbformat_minor": 2
}
