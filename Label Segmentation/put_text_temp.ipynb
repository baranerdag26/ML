{
 "cells": [
  {
   "cell_type": "code",
   "execution_count": null,
   "metadata": {},
   "outputs": [],
   "source": [
    "import os\n",
    "import json\n",
    "import cv2\n",
    "\n",
    "folder = 'C:/Users/baran/Desktop/***/labeled_imgs'\n",
    "\n",
    "for filename in os.listdir(folder):\n",
    "  if filename.endswith('.jpeg'):\n",
    "    img_path = os.path.join(folder, filename)\n",
    "    json_path = os.path.join(folder, os.path.splitext(filename)[0] + '.json')\n",
    "\n",
    "    image = cv2.imread(img_path)\n",
    "\n",
    "    with open(json_path) as f:\n",
    "      data = json.load(f)\n",
    "\n",
    "    name = data[\"shapes\"][0][\"label\"]\n",
    "    print(name)\n",
    "\n",
    "    # Get bounding box\n",
    "    x_coords = [p[0] for p in data[\"shapes\"][0][\"points\"]] \n",
    "    y_coords = [p[1] for p in data[\"shapes\"][0][\"points\"]]\n",
    "\n",
    "    x_min = min(x_coords)\n",
    "    x_max = max(x_coords)\n",
    "    y_min = min(y_coords) \n",
    "    y_max = max(y_coords)\n",
    "\n",
    "    # Calculate text position\n",
    "    x = int(x_min)\n",
    "    y = int(y_min - (y_max - y_min)) \n",
    "\n",
    "    cv2.putText(image, \n",
    "            name,\n",
    "            (x, y),\n",
    "            cv2.FONT_HERSHEY_SIMPLEX,\n",
    "            4, \n",
    "            (0,0,255),  \n",
    "            8)\n",
    "\n",
    "    cv2.imwrite(img_path, image) # overwrite original image\n",
    "\n",
    "print('Text added to images')"
   ]
  }
 ],
 "metadata": {
  "kernelspec": {
   "display_name": "Python 3",
   "language": "python",
   "name": "python3"
  },
  "language_info": {
   "codemirror_mode": {
    "name": "ipython",
    "version": 3
   },
   "file_extension": ".py",
   "mimetype": "text/x-python",
   "name": "python",
   "nbconvert_exporter": "python",
   "pygments_lexer": "ipython3",
   "version": "3.10.10"
  }
 },
 "nbformat": 4,
 "nbformat_minor": 2
}
